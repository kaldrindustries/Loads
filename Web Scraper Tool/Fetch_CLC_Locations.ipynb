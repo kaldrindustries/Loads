{
 "cells": [
  {
   "cell_type": "code",
   "execution_count": 1,
   "id": "d903e71d-c174-4d49-8383-8e1bcd81dfcc",
   "metadata": {},
   "outputs": [],
   "source": [
    "# !pip install selenium\n",
    "# !pip install webdriver-manager"
   ]
  },
  {
   "cell_type": "code",
   "execution_count": 2,
   "id": "b20802cc-851d-40d9-b959-b54977ef618a",
   "metadata": {},
   "outputs": [],
   "source": [
    "from selenium import webdriver\n",
    "from selenium.webdriver.chrome.options import Options\n",
    "from selenium.webdriver.chrome.service import Service\n",
    "from selenium.webdriver.support.ui import WebDriverWait\n",
    "from selenium.webdriver.common.by import By\n",
    "from selenium.webdriver.support import expected_conditions as EC\n",
    "from selenium.webdriver.support.select import Select\n",
    "from webdriver_manager.chrome import ChromeDriverManager\n",
    "import pandas as pd"
   ]
  },
  {
   "cell_type": "code",
   "execution_count": 3,
   "id": "62fff9a1-4d24-4b52-898f-f588d3a8d30d",
   "metadata": {},
   "outputs": [],
   "source": [
    "firstName = 'j'\n",
    "lastName = 'cancel'\n",
    "memberId = '5647843'"
   ]
  },
  {
   "cell_type": "code",
   "execution_count": 4,
   "id": "405bca44-128e-4f14-8ec2-430b708eb064",
   "metadata": {},
   "outputs": [],
   "source": [
    "def openDriver():\n",
    "    global wait\n",
    "    options = Options()\n",
    "#     options.add_argument(\"--headless\")\n",
    "    driver = webdriver.Chrome(service=Service(ChromeDriverManager().install()), options=options)\n",
    "    wait = WebDriverWait(driver, 30)\n",
    "    driver.get(\"https://account.clclodging.com/login.cfm\")"
   ]
  },
  {
   "cell_type": "code",
   "execution_count": 5,
   "id": "8e2a1911-8748-4293-8cf9-5890d97660c2",
   "metadata": {},
   "outputs": [],
   "source": [
    "def closeDriver():\n",
    "    driver.close()"
   ]
  },
  {
   "cell_type": "code",
   "execution_count": 6,
   "id": "79079292-a5b2-428c-88f3-67f554a2b887",
   "metadata": {},
   "outputs": [],
   "source": [
    "def login(UsernameA, UsernameB, ID):\n",
    "    wait.until(EC.visibility_of_element_located((By.XPATH, '//*[@id=\"body\"]/section/div/div[1]/div/ul/li[2]/span'))).click()\n",
    "    wait.until(EC.visibility_of_element_located((By.ID, 'UsernameA'))).send_keys(UsernameA)\n",
    "    wait.until(EC.visibility_of_element_located((By.ID, 'UsernameB'))).send_keys(UsernameB)\n",
    "    wait.until(EC.visibility_of_element_located((By.ID, 'ID'))).send_keys(ID)\n",
    "    wait.until(EC.visibility_of_element_located((By.XPATH, '//*[@id=\"TravLoginForm\"]/div[5]/button'))).click()"
   ]
  },
  {
   "cell_type": "code",
   "execution_count": 7,
   "id": "25ec9e5d-27b7-4a80-b21a-753998d609ae",
   "metadata": {},
   "outputs": [],
   "source": [
    "def search(Location):\n",
    "    wait.until(EC.visibility_of_element_located((By.ID, 'location'))).send_keys(Location)\n",
    "    wait.until(EC.visibility_of_element_located((By.XPATH, '//*[@id=\"btnFindHotels\"]'))).click()"
   ]
  },
  {
   "cell_type": "code",
   "execution_count": 8,
   "id": "0aa65438-7409-4323-8c6b-e5dc107a38dc",
   "metadata": {},
   "outputs": [],
   "source": [
    "def filter():\n",
    "    wait.until(EC.visibility_of_element_located((By.XPATH, '//*[@id=\"body\"]/div[1]/div[1]/div[2]/div[3]'))).click()\n",
    "    wait.until(EC.visibility_of_element_located((By.ID, 'limita'))).click()\n",
    "    wait.until(EC.visibility_of_element_located((By.ID, 'hotel_network'))).click()\n",
    "    wait.until(EC.visibility_of_element_located((By.ID, 'next'))).click()"
   ]
  },
  {
   "cell_type": "code",
   "execution_count": 9,
   "id": "b6050543-8507-464e-bc25-6ab11409960a",
   "metadata": {},
   "outputs": [],
   "source": [
    "def searchNext():\n",
    "    try:\n",
    "        wait.until(EC.visibility_of_element_located((By.XPATH, '//*[@id=\"hotel_next\"]/button'))).click()\n",
    "    except:\n",
    "      return False"
   ]
  },
  {
   "cell_type": "code",
   "execution_count": 10,
   "id": "3656dd28-e18e-4604-8cbf-7160aa2c27de",
   "metadata": {},
   "outputs": [
    {
     "name": "stdout",
     "output_type": "stream",
     "text": [
      "\n",
      "Escaped\n"
     ]
    }
   ],
   "source": [
    "openDriver()\n",
    "login(firstName,lastName,memberId)\n",
    "search(\"Cleveland\")\n",
    "filter()\n",
    "\n",
    "result = None\n",
    "while result is None:\n",
    "    try:\n",
    "        result = searchNext()\n",
    "    except:\n",
    "         pass\n",
    "        \n",
    "print(\"Escaped\")\n",
    "# closeDriver()"
   ]
  },
  {
   "cell_type": "code",
   "execution_count": null,
   "id": "de1255df-d5fc-4b5d-997b-c8e5919436d7",
   "metadata": {},
   "outputs": [],
   "source": []
  },
  {
   "cell_type": "code",
   "execution_count": null,
   "id": "0d27a4f4-475b-4f82-b14f-58207f10d9db",
   "metadata": {},
   "outputs": [],
   "source": []
  }
 ],
 "metadata": {
  "kernelspec": {
   "display_name": "Python 3 (ipykernel)",
   "language": "python",
   "name": "python3"
  },
  "language_info": {
   "codemirror_mode": {
    "name": "ipython",
    "version": 3
   },
   "file_extension": ".py",
   "mimetype": "text/x-python",
   "name": "python",
   "nbconvert_exporter": "python",
   "pygments_lexer": "ipython3",
   "version": "3.8.12"
  }
 },
 "nbformat": 4,
 "nbformat_minor": 5
}
